{
 "cells": [
  {
   "cell_type": "code",
   "execution_count": 1,
   "metadata": {
    "id": "bHEGkuQUG8db"
   },
   "outputs": [],
   "source": [
    "import pandas as pd"
   ]
  },
  {
   "cell_type": "code",
   "execution_count": 2,
   "metadata": {
    "colab": {
     "base_uri": "https://localhost:8080/"
    },
    "id": "fg-j8tkBGMbm",
    "outputId": "82c0465c-fa36-486f-9b7f-63f9cca02ca1"
   },
   "outputs": [
    {
     "name": "stdout",
     "output_type": "stream",
     "text": [
      "Requirement already satisfied: alpha_vantage in c:\\users\\jomin\\anaconda3\\lib\\site-packages (2.3.1)\n",
      "Requirement already satisfied: aiohttp in c:\\users\\jomin\\anaconda3\\lib\\site-packages (from alpha_vantage) (3.8.4)\n",
      "Requirement already satisfied: requests in c:\\users\\jomin\\anaconda3\\lib\\site-packages (from alpha_vantage) (2.28.1)\n",
      "Requirement already satisfied: attrs>=17.3.0 in c:\\users\\jomin\\anaconda3\\lib\\site-packages (from aiohttp->alpha_vantage) (22.1.0)\n",
      "Requirement already satisfied: async-timeout<5.0,>=4.0.0a3 in c:\\users\\jomin\\anaconda3\\lib\\site-packages (from aiohttp->alpha_vantage) (4.0.2)\n",
      "Requirement already satisfied: frozenlist>=1.1.1 in c:\\users\\jomin\\anaconda3\\lib\\site-packages (from aiohttp->alpha_vantage) (1.3.3)\n",
      "Requirement already satisfied: charset-normalizer<4.0,>=2.0 in c:\\users\\jomin\\anaconda3\\lib\\site-packages (from aiohttp->alpha_vantage) (2.0.4)\n",
      "Requirement already satisfied: aiosignal>=1.1.2 in c:\\users\\jomin\\anaconda3\\lib\\site-packages (from aiohttp->alpha_vantage) (1.3.1)\n",
      "Requirement already satisfied: multidict<7.0,>=4.5 in c:\\users\\jomin\\anaconda3\\lib\\site-packages (from aiohttp->alpha_vantage) (6.0.4)\n",
      "Requirement already satisfied: yarl<2.0,>=1.0 in c:\\users\\jomin\\anaconda3\\lib\\site-packages (from aiohttp->alpha_vantage) (1.9.1)\n",
      "Requirement already satisfied: urllib3<1.27,>=1.21.1 in c:\\users\\jomin\\anaconda3\\lib\\site-packages (from requests->alpha_vantage) (1.26.14)\n",
      "Requirement already satisfied: idna<4,>=2.5 in c:\\users\\jomin\\anaconda3\\lib\\site-packages (from requests->alpha_vantage) (3.4)\n",
      "Requirement already satisfied: certifi>=2017.4.17 in c:\\users\\jomin\\anaconda3\\lib\\site-packages (from requests->alpha_vantage) (2022.12.7)\n"
     ]
    }
   ],
   "source": [
    "! pip install alpha_vantage"
   ]
  },
  {
   "cell_type": "code",
   "execution_count": 3,
   "metadata": {
    "id": "stCNNzQKGcxl"
   },
   "outputs": [],
   "source": [
    "from alpha_vantage.timeseries import TimeSeries\n"
   ]
  },
  {
   "cell_type": "code",
   "execution_count": 4,
   "metadata": {
    "id": "dpDLO6XKGje1"
   },
   "outputs": [],
   "source": [
    "key='R9UYE8ZUY92XLTUM'"
   ]
  },
  {
   "cell_type": "code",
   "execution_count": 5,
   "metadata": {
    "id": "2ufppzCWGqOW"
   },
   "outputs": [],
   "source": [
    "ts = TimeSeries(key=key,output_format='pandas')"
   ]
  },
  {
   "cell_type": "code",
   "execution_count": 6,
   "metadata": {
    "id": "tocAKWrOGsUK"
   },
   "outputs": [],
   "source": [
    "find='SPY'"
   ]
  },
  {
   "cell_type": "code",
   "execution_count": 7,
   "metadata": {
    "id": "zdSgOOJPG0GQ"
   },
   "outputs": [],
   "source": [
    "data, meta_data = ts.get_daily_adjusted(symbol=find, outputsize='full')"
   ]
  },
  {
   "cell_type": "code",
   "execution_count": 8,
   "metadata": {
    "colab": {
     "base_uri": "https://localhost:8080/",
     "height": 455
    },
    "id": "TxpDOrNsHBX3",
    "outputId": "1bf0b62e-78b7-4c77-c273-733635dc0f68"
   },
   "outputs": [
    {
     "data": {
      "text/html": [
       "<div>\n",
       "<style scoped>\n",
       "    .dataframe tbody tr th:only-of-type {\n",
       "        vertical-align: middle;\n",
       "    }\n",
       "\n",
       "    .dataframe tbody tr th {\n",
       "        vertical-align: top;\n",
       "    }\n",
       "\n",
       "    .dataframe thead th {\n",
       "        text-align: right;\n",
       "    }\n",
       "</style>\n",
       "<table border=\"1\" class=\"dataframe\">\n",
       "  <thead>\n",
       "    <tr style=\"text-align: right;\">\n",
       "      <th></th>\n",
       "      <th>1. open</th>\n",
       "      <th>2. high</th>\n",
       "      <th>3. low</th>\n",
       "      <th>4. close</th>\n",
       "      <th>5. adjusted close</th>\n",
       "      <th>6. volume</th>\n",
       "      <th>7. dividend amount</th>\n",
       "      <th>8. split coefficient</th>\n",
       "    </tr>\n",
       "    <tr>\n",
       "      <th>date</th>\n",
       "      <th></th>\n",
       "      <th></th>\n",
       "      <th></th>\n",
       "      <th></th>\n",
       "      <th></th>\n",
       "      <th></th>\n",
       "      <th></th>\n",
       "      <th></th>\n",
       "    </tr>\n",
       "  </thead>\n",
       "  <tbody>\n",
       "    <tr>\n",
       "      <th>2023-04-21</th>\n",
       "      <td>412.190000</td>\n",
       "      <td>412.680000</td>\n",
       "      <td>410.170000</td>\n",
       "      <td>412.200000</td>\n",
       "      <td>412.200000</td>\n",
       "      <td>73457422.0</td>\n",
       "      <td>0.0</td>\n",
       "      <td>1.0</td>\n",
       "    </tr>\n",
       "    <tr>\n",
       "      <th>2023-04-20</th>\n",
       "      <td>411.210000</td>\n",
       "      <td>413.700000</td>\n",
       "      <td>410.270000</td>\n",
       "      <td>411.880000</td>\n",
       "      <td>411.880000</td>\n",
       "      <td>75840359.0</td>\n",
       "      <td>0.0</td>\n",
       "      <td>1.0</td>\n",
       "    </tr>\n",
       "    <tr>\n",
       "      <th>2023-04-19</th>\n",
       "      <td>412.220000</td>\n",
       "      <td>415.080000</td>\n",
       "      <td>412.160000</td>\n",
       "      <td>414.140000</td>\n",
       "      <td>414.140000</td>\n",
       "      <td>55227330.0</td>\n",
       "      <td>0.0</td>\n",
       "      <td>1.0</td>\n",
       "    </tr>\n",
       "    <tr>\n",
       "      <th>2023-04-18</th>\n",
       "      <td>415.580000</td>\n",
       "      <td>415.720000</td>\n",
       "      <td>412.780200</td>\n",
       "      <td>414.210000</td>\n",
       "      <td>414.210000</td>\n",
       "      <td>63559997.0</td>\n",
       "      <td>0.0</td>\n",
       "      <td>1.0</td>\n",
       "    </tr>\n",
       "    <tr>\n",
       "      <th>2023-04-17</th>\n",
       "      <td>412.370000</td>\n",
       "      <td>413.960000</td>\n",
       "      <td>411.085000</td>\n",
       "      <td>413.940000</td>\n",
       "      <td>413.940000</td>\n",
       "      <td>65496534.0</td>\n",
       "      <td>0.0</td>\n",
       "      <td>1.0</td>\n",
       "    </tr>\n",
       "    <tr>\n",
       "      <th>...</th>\n",
       "      <td>...</td>\n",
       "      <td>...</td>\n",
       "      <td>...</td>\n",
       "      <td>...</td>\n",
       "      <td>...</td>\n",
       "      <td>...</td>\n",
       "      <td>...</td>\n",
       "      <td>...</td>\n",
       "    </tr>\n",
       "    <tr>\n",
       "      <th>1999-11-05</th>\n",
       "      <td>138.625000</td>\n",
       "      <td>139.109299</td>\n",
       "      <td>136.781204</td>\n",
       "      <td>137.875000</td>\n",
       "      <td>89.722043</td>\n",
       "      <td>7431500.0</td>\n",
       "      <td>0.0</td>\n",
       "      <td>1.0</td>\n",
       "    </tr>\n",
       "    <tr>\n",
       "      <th>1999-11-04</th>\n",
       "      <td>136.750000</td>\n",
       "      <td>137.359299</td>\n",
       "      <td>135.765594</td>\n",
       "      <td>136.531204</td>\n",
       "      <td>88.847568</td>\n",
       "      <td>7907500.0</td>\n",
       "      <td>0.0</td>\n",
       "      <td>1.0</td>\n",
       "    </tr>\n",
       "    <tr>\n",
       "      <th>1999-11-03</th>\n",
       "      <td>136.000000</td>\n",
       "      <td>136.375000</td>\n",
       "      <td>135.125000</td>\n",
       "      <td>135.500000</td>\n",
       "      <td>88.176513</td>\n",
       "      <td>7222300.0</td>\n",
       "      <td>0.0</td>\n",
       "      <td>1.0</td>\n",
       "    </tr>\n",
       "    <tr>\n",
       "      <th>1999-11-02</th>\n",
       "      <td>135.968704</td>\n",
       "      <td>137.250000</td>\n",
       "      <td>134.593704</td>\n",
       "      <td>134.593704</td>\n",
       "      <td>87.586742</td>\n",
       "      <td>6516900.0</td>\n",
       "      <td>0.0</td>\n",
       "      <td>1.0</td>\n",
       "    </tr>\n",
       "    <tr>\n",
       "      <th>1999-11-01</th>\n",
       "      <td>136.500000</td>\n",
       "      <td>137.000000</td>\n",
       "      <td>135.562500</td>\n",
       "      <td>135.562500</td>\n",
       "      <td>88.217185</td>\n",
       "      <td>4006500.0</td>\n",
       "      <td>0.0</td>\n",
       "      <td>1.0</td>\n",
       "    </tr>\n",
       "  </tbody>\n",
       "</table>\n",
       "<p>5906 rows × 8 columns</p>\n",
       "</div>"
      ],
      "text/plain": [
       "               1. open     2. high      3. low    4. close  5. adjusted close  \\\n",
       "date                                                                            \n",
       "2023-04-21  412.190000  412.680000  410.170000  412.200000         412.200000   \n",
       "2023-04-20  411.210000  413.700000  410.270000  411.880000         411.880000   \n",
       "2023-04-19  412.220000  415.080000  412.160000  414.140000         414.140000   \n",
       "2023-04-18  415.580000  415.720000  412.780200  414.210000         414.210000   \n",
       "2023-04-17  412.370000  413.960000  411.085000  413.940000         413.940000   \n",
       "...                ...         ...         ...         ...                ...   \n",
       "1999-11-05  138.625000  139.109299  136.781204  137.875000          89.722043   \n",
       "1999-11-04  136.750000  137.359299  135.765594  136.531204          88.847568   \n",
       "1999-11-03  136.000000  136.375000  135.125000  135.500000          88.176513   \n",
       "1999-11-02  135.968704  137.250000  134.593704  134.593704          87.586742   \n",
       "1999-11-01  136.500000  137.000000  135.562500  135.562500          88.217185   \n",
       "\n",
       "             6. volume  7. dividend amount  8. split coefficient  \n",
       "date                                                              \n",
       "2023-04-21  73457422.0                 0.0                   1.0  \n",
       "2023-04-20  75840359.0                 0.0                   1.0  \n",
       "2023-04-19  55227330.0                 0.0                   1.0  \n",
       "2023-04-18  63559997.0                 0.0                   1.0  \n",
       "2023-04-17  65496534.0                 0.0                   1.0  \n",
       "...                ...                 ...                   ...  \n",
       "1999-11-05   7431500.0                 0.0                   1.0  \n",
       "1999-11-04   7907500.0                 0.0                   1.0  \n",
       "1999-11-03   7222300.0                 0.0                   1.0  \n",
       "1999-11-02   6516900.0                 0.0                   1.0  \n",
       "1999-11-01   4006500.0                 0.0                   1.0  \n",
       "\n",
       "[5906 rows x 8 columns]"
      ]
     },
     "execution_count": 8,
     "metadata": {},
     "output_type": "execute_result"
    }
   ],
   "source": [
    "data"
   ]
  },
  {
   "cell_type": "code",
   "execution_count": 9,
   "metadata": {
    "id": "8L8QTA9fHH2k"
   },
   "outputs": [],
   "source": [
    "\n",
    "data = data.loc['2020-01-22':'2023-03-29']"
   ]
  },
  {
   "cell_type": "code",
   "execution_count": 10,
   "metadata": {
    "id": "2YAXfcLnHKYu"
   },
   "outputs": [],
   "source": [
    "\n",
    "data=data.iloc[:,1:3]"
   ]
  },
  {
   "cell_type": "code",
   "execution_count": 11,
   "metadata": {
    "id": "GQ_m-Ex7IlF4"
   },
   "outputs": [],
   "source": [
    "date=[]\n",
    "for i in data.index:\n",
    "  date.append(i)\n",
    "     \n",
    "\n"
   ]
  },
  {
   "cell_type": "code",
   "execution_count": 12,
   "metadata": {
    "id": "OQRR7gHLI1Ia"
   },
   "outputs": [],
   "source": [
    "\n",
    "data['date']=date\n"
   ]
  },
  {
   "cell_type": "code",
   "execution_count": 13,
   "metadata": {
    "id": "HqhAboK7I1E8"
   },
   "outputs": [],
   "source": [
    "data['date']=data['date'].dt.strftime('%-m/%-d/%-y')"
   ]
  },
  {
   "cell_type": "code",
   "execution_count": 14,
   "metadata": {
    "id": "SprIuwJ5JIEY"
   },
   "outputs": [],
   "source": [
    "stock = data.reset_index(drop = True)"
   ]
  },
  {
   "cell_type": "code",
   "execution_count": 15,
   "metadata": {
    "colab": {
     "base_uri": "https://localhost:8080/",
     "height": 423
    },
    "id": "O_WAY4ipJJ-p",
    "outputId": "aae05546-17a3-4d16-b2f1-2d3f9065170c"
   },
   "outputs": [
    {
     "data": {
      "text/html": [
       "<div>\n",
       "<style scoped>\n",
       "    .dataframe tbody tr th:only-of-type {\n",
       "        vertical-align: middle;\n",
       "    }\n",
       "\n",
       "    .dataframe tbody tr th {\n",
       "        vertical-align: top;\n",
       "    }\n",
       "\n",
       "    .dataframe thead th {\n",
       "        text-align: right;\n",
       "    }\n",
       "</style>\n",
       "<table border=\"1\" class=\"dataframe\">\n",
       "  <thead>\n",
       "    <tr style=\"text-align: right;\">\n",
       "      <th></th>\n",
       "      <th>2. high</th>\n",
       "      <th>3. low</th>\n",
       "      <th>date</th>\n",
       "    </tr>\n",
       "  </thead>\n",
       "  <tbody>\n",
       "    <tr>\n",
       "      <th>0</th>\n",
       "      <td>401.60</td>\n",
       "      <td>398.68</td>\n",
       "      <td>2023-03-29 00:00:00</td>\n",
       "    </tr>\n",
       "    <tr>\n",
       "      <th>1</th>\n",
       "      <td>396.49</td>\n",
       "      <td>393.69</td>\n",
       "      <td>2023-03-28 00:00:00</td>\n",
       "    </tr>\n",
       "    <tr>\n",
       "      <th>2</th>\n",
       "      <td>398.92</td>\n",
       "      <td>395.56</td>\n",
       "      <td>2023-03-27 00:00:00</td>\n",
       "    </tr>\n",
       "    <tr>\n",
       "      <th>3</th>\n",
       "      <td>395.84</td>\n",
       "      <td>389.40</td>\n",
       "      <td>2023-03-24 00:00:00</td>\n",
       "    </tr>\n",
       "    <tr>\n",
       "      <th>4</th>\n",
       "      <td>399.29</td>\n",
       "      <td>390.35</td>\n",
       "      <td>2023-03-23 00:00:00</td>\n",
       "    </tr>\n",
       "    <tr>\n",
       "      <th>...</th>\n",
       "      <td>...</td>\n",
       "      <td>...</td>\n",
       "      <td>...</td>\n",
       "    </tr>\n",
       "    <tr>\n",
       "      <th>798</th>\n",
       "      <td>327.85</td>\n",
       "      <td>323.60</td>\n",
       "      <td>2020-01-28 00:00:00</td>\n",
       "    </tr>\n",
       "    <tr>\n",
       "      <th>799</th>\n",
       "      <td>325.12</td>\n",
       "      <td>322.66</td>\n",
       "      <td>2020-01-27 00:00:00</td>\n",
       "    </tr>\n",
       "    <tr>\n",
       "      <th>800</th>\n",
       "      <td>332.53</td>\n",
       "      <td>327.36</td>\n",
       "      <td>2020-01-24 00:00:00</td>\n",
       "    </tr>\n",
       "    <tr>\n",
       "      <th>801</th>\n",
       "      <td>332.17</td>\n",
       "      <td>329.41</td>\n",
       "      <td>2020-01-23 00:00:00</td>\n",
       "    </tr>\n",
       "    <tr>\n",
       "      <th>802</th>\n",
       "      <td>332.95</td>\n",
       "      <td>331.17</td>\n",
       "      <td>2020-01-22 00:00:00</td>\n",
       "    </tr>\n",
       "  </tbody>\n",
       "</table>\n",
       "<p>803 rows × 3 columns</p>\n",
       "</div>"
      ],
      "text/plain": [
       "     2. high  3. low                 date\n",
       "0     401.60  398.68  2023-03-29 00:00:00\n",
       "1     396.49  393.69  2023-03-28 00:00:00\n",
       "2     398.92  395.56  2023-03-27 00:00:00\n",
       "3     395.84  389.40  2023-03-24 00:00:00\n",
       "4     399.29  390.35  2023-03-23 00:00:00\n",
       "..       ...     ...                  ...\n",
       "798   327.85  323.60  2020-01-28 00:00:00\n",
       "799   325.12  322.66  2020-01-27 00:00:00\n",
       "800   332.53  327.36  2020-01-24 00:00:00\n",
       "801   332.17  329.41  2020-01-23 00:00:00\n",
       "802   332.95  331.17  2020-01-22 00:00:00\n",
       "\n",
       "[803 rows x 3 columns]"
      ]
     },
     "execution_count": 15,
     "metadata": {},
     "output_type": "execute_result"
    }
   ],
   "source": [
    "stock"
   ]
  },
  {
   "cell_type": "code",
   "execution_count": null,
   "metadata": {},
   "outputs": [],
   "source": []
  }
 ],
 "metadata": {
  "colab": {
   "provenance": []
  },
  "kernelspec": {
   "display_name": "Python 3 (ipykernel)",
   "language": "python",
   "name": "python3"
  },
  "language_info": {
   "codemirror_mode": {
    "name": "ipython",
    "version": 3
   },
   "file_extension": ".py",
   "mimetype": "text/x-python",
   "name": "python",
   "nbconvert_exporter": "python",
   "pygments_lexer": "ipython3",
   "version": "3.10.9"
  }
 },
 "nbformat": 4,
 "nbformat_minor": 1
}
